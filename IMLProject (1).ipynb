{
  "nbformat": 4,
  "nbformat_minor": 0,
  "metadata": {
    "colab": {
      "name": "IMLProject.ipynb",
      "provenance": [],
      "collapsed_sections": []
    },
    "kernelspec": {
      "name": "python3",
      "display_name": "Python 3"
    },
    "language_info": {
      "name": "python"
    }
  },
  "cells": [
    {
      "cell_type": "code",
      "metadata": {
        "colab": {
          "base_uri": "https://localhost:8080/"
        },
        "id": "C21rFTOiOwOp",
        "outputId": "9f0e232d-b5ba-456a-9093-27d27d2deca5"
      },
      "source": [
        "from google.colab import drive\n",
        "drive.mount('/content/drive')"
      ],
      "execution_count": 3,
      "outputs": [
        {
          "output_type": "stream",
          "text": [
            "Drive already mounted at /content/drive; to attempt to forcibly remount, call drive.mount(\"/content/drive\", force_remount=True).\n"
          ],
          "name": "stdout"
        }
      ]
    },
    {
      "cell_type": "code",
      "metadata": {
        "id": "AFRR1SciPqsp"
      },
      "source": [
        "from zipfile import ZipFile\n",
        "# Create a ZipFile Object and load sample.zip in it\n",
        "with ZipFile('/content/drive/MyDrive/alldata.zip', 'r') as zipObj:\n",
        "   # Extract all the contents of zip file in different directory\n",
        "   zipObj.extractall('/content/temp')"
      ],
      "execution_count": 4,
      "outputs": []
    },
    {
      "cell_type": "code",
      "metadata": {
        "id": "g_wBjrs7P5AB",
        "cellView": "form"
      },
      "source": [
        "#@title\n",
        "# import os\n",
        "# os.mkdir(\"/content/jpgs\")\n",
        "# os.mkdir(\"/content/jpgs/meningioma\")\n",
        "# os.mkdir(\"/content/jpgs/glioma\")"
      ],
      "execution_count": 5,
      "outputs": []
    },
    {
      "cell_type": "code",
      "metadata": {
        "id": "tijsAHNOP6sC",
        "cellView": "form"
      },
      "source": [
        "#@title\n",
        "# from PIL import Image\n",
        "# import numpy as np\n",
        "# import h5py as h5\n",
        "# import glob\n",
        "# import os\n",
        "# from skimage.util import img_as_ubyte\n",
        "# import cv2\n",
        "\n",
        "# path = '/content/temp/imagedata/*.mat'   \n",
        "# files=glob.glob(path)\n",
        "\n",
        "# for file in files:\n",
        "#   f=h5.File(file,'r')\n",
        "#   label = int(f['/cjdata/label'][0][0])\n",
        "\n",
        "#   if label == 3:\n",
        "#     os.remove(file)\n",
        "\n",
        "#   elif label == 1:\n",
        "#     img = np.array(f['/cjdata/image'])\n",
        "#     img = img_as_ubyte(img)\n",
        "#     img = img/255\n",
        "#     img = img_as_ubyte(img)\n",
        "#     img = cv2.medianBlur(img,3)\n",
        "\n",
        "#     im = Image.fromarray(img)\n",
        "#     file_name, ext = os.path.splitext(file)\n",
        "#     fff = file_name.split('/')\n",
        "#     im.save(\"/content/jpgs/meningioma/\"+fff[-1]+\".jpg\")\n",
        "\n",
        "#   elif label == 2:\n",
        "#     img = np.array(f['/cjdata/image'])\n",
        "#     img = img_as_ubyte(img)\n",
        "#     img = cv2.medianBlur(img,3)\n",
        "    \n",
        "#     im = Image.fromarray(img)\n",
        "#     file_name, ext = os.path.splitext(file)\n",
        "#     fff = file_name.split('/')\n",
        "#     im.save(\"/content/jpgs/glioma/\"+fff[-1]+\".jpg\")"
      ],
      "execution_count": 6,
      "outputs": []
    },
    {
      "cell_type": "code",
      "metadata": {
        "id": "Kukfz8D1h1yE"
      },
      "source": [
        "from PIL import Image\n",
        "import numpy as np\n",
        "import h5py as h5\n",
        "import glob\n",
        "import os\n",
        "from skimage.util import img_as_ubyte, img_as_float\n",
        "import cv2\n",
        "\n",
        "import pandas as pd\n",
        "import glob\n",
        "import matplotlib.pyplot as plt\n",
        "from scipy.stats import skew, kurtosis\n",
        "from skimage.feature import greycomatrix, greycoprops\n",
        "\n",
        "import pywt\n",
        "\n",
        "features= pd.DataFrame(columns=[])\n",
        "labels = []\n",
        "\n",
        "path = '/content/temp/imagedata/*.mat'   \n",
        "files=glob.glob(path)\n",
        "\n",
        "for file in files:\n",
        "  f=h5.File(file,'r')\n",
        "  label = int(f['/cjdata/label'][0][0])\n",
        "\n",
        "  if label == 3:\n",
        "    os.remove(file)\n",
        "  else:\n",
        "      labels.append(label)\n",
        "\n",
        "      img = np.array(f['/cjdata/image'])\n",
        "      img = cv2.resize(img, (256,256))\n",
        "      img = img_as_ubyte(img)\n",
        "\n",
        "\n",
        "      mean=img.mean()  #feature 3                              \n",
        "      var=img.var()   #feature 4                               \n",
        "      flat_image = img.flatten()                                  \n",
        "      skewness = skew(flat_image, bias = False)                  #from scipy.stats import skew, kurtosis \n",
        "      kurt = kurtosis(flat_image, bias = False)\n",
        "\n",
        "      glcm1 = greycomatrix(img, distances=[1], angles=[0], symmetric=True, normed=True)\n",
        "      contrast1 = greycoprops(glcm1, 'contrast')[0][0]         # feature 5\n",
        "      energy1 = greycoprops(glcm1,'energy')[0][0]              # feature 6\n",
        "      ASM1 = greycoprops(glcm1, 'ASM')[0][0]                   # feature 7\n",
        "      homogeneity1 = greycoprops(glcm1, 'homogeneity')[0][0]   # feature 8\n",
        "      correlation1 = greycoprops(glcm1, 'correlation')[0][0]\n",
        "\n",
        "      glcm2 = greycomatrix(img, distances=[1], angles=[np.pi/4] , symmetric=True, normed=True)\n",
        "      contrast2 = greycoprops(glcm2, 'contrast')[0][0]         # feature 5\n",
        "      energy2 = greycoprops(glcm2,'energy')[0][0]              # feature 6\n",
        "      ASM2 = greycoprops(glcm2, 'ASM')[0][0]                   # feature 7\n",
        "      homogeneity2 = greycoprops(glcm2, 'homogeneity')[0][0]   # feature 8\n",
        "      correlation2 = greycoprops(glcm2, 'correlation')[0][0]\n",
        "\n",
        "      glcm3 = greycomatrix(img, distances=[1], angles=[np.pi/2], symmetric=True, normed=True)\n",
        "      contrast3 = greycoprops(glcm3, 'contrast')[0][0]         # feature 5\n",
        "      energy3 = greycoprops(glcm3,'energy')[0][0]              # feature 6\n",
        "      ASM3 = greycoprops(glcm3, 'ASM')[0][0]                   # feature 7\n",
        "      homogeneity3 = greycoprops(glcm3, 'homogeneity')[0][0]   # feature 8\n",
        "      correlation3 = greycoprops(glcm3, 'correlation')[0][0]\n",
        "\n",
        "      glcm4 = greycomatrix(img, distances=[1], angles=[(3*np.pi)/4], symmetric=True, normed=True)\n",
        "      contrast4 = greycoprops(glcm4, 'contrast')[0][0]         # feature 5\n",
        "      energy4 = greycoprops(glcm4,'energy')[0][0]              # feature 6\n",
        "      ASM4 = greycoprops(glcm4, 'ASM')[0][0]                   # feature 7\n",
        "      homogeneity4 = greycoprops(glcm4, 'homogeneity')[0][0]   # feature 8\n",
        "      correlation4 = greycoprops(glcm4, 'correlation')[0][0]\n",
        "\n",
        "      mean_contrast = (contrast1 + contrast2 + contrast3 + contrast4)/4\n",
        "      mean_energy = (energy1+ energy2+ energy3+ energy4)/4\n",
        "      mean_ASM = (ASM1+ ASM2+ ASM3+ ASM4)/4\n",
        "      mean_homogeneity = (homogeneity1+ homogeneity2+ homogeneity3+ homogeneity4)/4\n",
        "      mean_correlation = (correlation1+ correlation2+ correlation3+ correlation4)/4\n",
        "\n",
        "      range_contrast = max(contrast1, contrast2, contrast3, contrast4) -min(contrast1, contrast2, contrast3, contrast4)\n",
        "      range_energy = max(energy1, energy2, energy3, energy4) - min(energy1, energy2, energy3, energy4)\n",
        "      range_ASM = max(ASM1, ASM2, ASM3, ASM4) - min(ASM1, ASM2, ASM3, ASM4)\n",
        "      range_homogeneity = max(homogeneity1, homogeneity2, homogeneity3, homogeneity4) - min(homogeneity1, homogeneity2, homogeneity3, homogeneity4)\n",
        "      range_correlation = max(correlation1, correlation2, correlation3, correlation4) - min(correlation1, correlation2, correlation3, correlation4)\n",
        "    \n",
        "      features = features.append({\n",
        "          'Mean': mean,\n",
        "          'variance':var, \n",
        "          'skewness': skewness, \n",
        "          'kurtosis': kurt,\n",
        "          'Contrast': mean_contrast,\n",
        "          'Energy': mean_energy,\n",
        "          'ASM': mean_ASM,\n",
        "          'Homogeneity': mean_homogeneity,\n",
        "          'Correlation': mean_correlation,\n",
        "          'Range_Contrast': range_contrast,\n",
        "          'Range_Energy': range_energy,\n",
        "          'Range_ASM': range_ASM,\n",
        "          'Range_Homogeneity': range_homogeneity,\n",
        "          'Range_Correlation': range_correlation}, ignore_index=True)\n",
        "\n"
      ],
      "execution_count": 7,
      "outputs": []
    },
    {
      "cell_type": "code",
      "metadata": {
        "id": "CUPKJ8zAP8su",
        "cellView": "form"
      },
      "source": [
        "#@title\n",
        "\n",
        "# import pandas as pd\n",
        "# import glob\n",
        "# import matplotlib.pyplot as plt\n",
        "# from scipy.stats import skew, kurtosis\n",
        "# from skimage.feature import greycomatrix, greycoprops\n",
        "\n",
        "# features= pd.DataFrame(columns=[])\n",
        "# labels = []\n",
        "\n",
        "# path = '/content/jpgs/glioma/*.jpg'                          #import glob\n",
        "# files=glob.glob(path)\n",
        "\n",
        "# for file in files:\n",
        "#   img = plt.imread(file) \n",
        "#   img = np.array(img)                                  # import matplotlib.plt as plt\n",
        "#   mean=img.mean()  #feature 3                              \n",
        "#   var=img.var()   #feature 4                               \n",
        "#   flat_image = img.flatten()                                  \n",
        "#   skewness = skew(flat_image, bias = False)                  #from scipy.stats import skew, kurtosis \n",
        "#   kurt = kurtosis(flat_image, bias = False)\n",
        "\n",
        "#   glcm1 = greycomatrix(img, distances=[1], angles=[0], symmetric=True, normed=True)\n",
        "#   contrast1 = greycoprops(glcm1, 'contrast')[0][0]         # feature 5\n",
        "#   energy1 = greycoprops(glcm1,'energy')[0][0]              # feature 6\n",
        "#   ASM1 = greycoprops(glcm1, 'ASM')[0][0]                   # feature 7\n",
        "#   homogeneity1 = greycoprops(glcm1, 'homogeneity')[0][0]   # feature 8\n",
        "#   correlation1 = greycoprops(glcm1, 'correlation')[0][0]\n",
        "\n",
        "#   glcm2 = greycomatrix(img, distances=[1], angles=[np.pi/4] , symmetric=True, normed=True)\n",
        "#   contrast2 = greycoprops(glcm2, 'contrast')[0][0]         # feature 5\n",
        "#   energy2 = greycoprops(glcm2,'energy')[0][0]              # feature 6\n",
        "#   ASM2 = greycoprops(glcm2, 'ASM')[0][0]                   # feature 7\n",
        "#   homogeneity2 = greycoprops(glcm2, 'homogeneity')[0][0]   # feature 8\n",
        "#   correlation2 = greycoprops(glcm2, 'correlation')[0][0]\n",
        "\n",
        "#   glcm3 = greycomatrix(img, distances=[1], angles=[np.pi/2], symmetric=True, normed=True)\n",
        "#   contrast3 = greycoprops(glcm3, 'contrast')[0][0]         # feature 5\n",
        "#   energy3 = greycoprops(glcm3,'energy')[0][0]              # feature 6\n",
        "#   ASM3 = greycoprops(glcm3, 'ASM')[0][0]                   # feature 7\n",
        "#   homogeneity3 = greycoprops(glcm3, 'homogeneity')[0][0]   # feature 8\n",
        "#   correlation3 = greycoprops(glcm3, 'correlation')[0][0]\n",
        "\n",
        "#   glcm4 = greycomatrix(img, distances=[1], angles=[(3*np.pi)/4], symmetric=True, normed=True)\n",
        "#   contrast4 = greycoprops(glcm4, 'contrast')[0][0]         # feature 5\n",
        "#   energy4 = greycoprops(glcm4,'energy')[0][0]              # feature 6\n",
        "#   ASM4 = greycoprops(glcm4, 'ASM')[0][0]                   # feature 7\n",
        "#   homogeneity4 = greycoprops(glcm4, 'homogeneity')[0][0]   # feature 8\n",
        "#   correlation4 = greycoprops(glcm4, 'correlation')[0][0]\n",
        "\n",
        "#   mean_contrast = (contrast1 + contrast2 + contrast3 + contrast4)/4\n",
        "#   mean_energy = (energy1+ energy2+ energy3+ energy4)/4\n",
        "#   mean_ASM = (ASM1+ ASM2+ ASM3+ ASM4)/4\n",
        "#   mean_homogeneity = (homogeneity1+ homogeneity2+ homogeneity3+ homogeneity4)/4\n",
        "#   mean_correlation = (correlation1+ correlation2+ correlation3+ correlation4)/4\n",
        "\n",
        "#   range_contrast = max(contrast1, contrast2, contrast3, contrast4) -min(contrast1, contrast2, contrast3, contrast4)\n",
        "#   range_energy = max(energy1, energy2, energy3, energy4) - min(energy1, energy2, energy3, energy4)\n",
        "#   range_ASM = max(ASM1, ASM2, ASM3, ASM4) - min(ASM1, ASM2, ASM3, ASM4)\n",
        "#   range_homogeneity = max(homogeneity1, homogeneity2, homogeneity3, homogeneity4) - min(homogeneity1, homogeneity2, homogeneity3, homogeneity4)\n",
        "#   range_correlation = max(correlation1, correlation2, correlation3, correlation4) - min(correlation1, correlation2, correlation3, correlation4)\n",
        " \n",
        "#   features = features.append({\n",
        "#       'Mean': mean,\n",
        "#       'variance':var, \n",
        "#       'skewness': skewness, \n",
        "#       'kurtosis': kurt,\n",
        "#       'Contrast': mean_contrast,\n",
        "#       'Energy': mean_energy,\n",
        "#       'ASM': mean_ASM,\n",
        "#       'Homogeneity': mean_homogeneity,\n",
        "#       'Correlation': mean_correlation,\n",
        "#       'Range_Contrast': range_contrast,\n",
        "#       'Range_Energy': range_energy,\n",
        "#       'Range_ASM': range_ASM,\n",
        "#       'Range_Homogeneity': range_homogeneity,\n",
        "#       'Range_Correlation': range_correlation}, ignore_index=True)\n",
        "  \n",
        "#   labels.append(2)\n",
        "\n",
        "# path = '/content/jpgs/meningioma/*.jpg'   \n",
        "# files=glob.glob(path)\n",
        "\n",
        "# for file in files:\n",
        "#   img = plt.imread(file)\n",
        "#   img = np.array(img) \n",
        "#   mean=img.mean()  #feature 3\n",
        "#   var=img.var()   #feature 4\n",
        "#   flat_image = img.flatten()\n",
        "#   skewness = skew(flat_image, bias = False)\n",
        "#   kurt = kurtosis(flat_image, bias = False)\n",
        "\n",
        "#   glcm1 = greycomatrix(img, distances=[1], angles=[0], symmetric=True, normed=True)\n",
        "#   contrast1 = greycoprops(glcm1, 'contrast')[0][0]         # feature 5\n",
        "#   energy1 = greycoprops(glcm1,'energy')[0][0]              # feature 6\n",
        "#   ASM1 = greycoprops(glcm1, 'ASM')[0][0]                   # feature 7\n",
        "#   homogeneity1 = greycoprops(glcm1, 'homogeneity')[0][0]   # feature 8\n",
        "#   correlation1 = greycoprops(glcm1, 'correlation')[0][0]\n",
        "\n",
        "#   glcm2 = greycomatrix(img, distances=[1], angles=[np.pi/4] , symmetric=True, normed=True)\n",
        "#   contrast2 = greycoprops(glcm2, 'contrast')[0][0]         # feature 5\n",
        "#   energy2 = greycoprops(glcm2,'energy')[0][0]              # feature 6\n",
        "#   ASM2 = greycoprops(glcm2, 'ASM')[0][0]                   # feature 7\n",
        "#   homogeneity2 = greycoprops(glcm2, 'homogeneity')[0][0]   # feature 8\n",
        "#   correlation2 = greycoprops(glcm2, 'correlation')[0][0]\n",
        "\n",
        "#   glcm3 = greycomatrix(img, distances=[1], angles=[np.pi/2], symmetric=True, normed=True)\n",
        "#   contrast3 = greycoprops(glcm3, 'contrast')[0][0]         # feature 5\n",
        "#   energy3 = greycoprops(glcm3,'energy')[0][0]              # feature 6\n",
        "#   ASM3 = greycoprops(glcm3, 'ASM')[0][0]                   # feature 7\n",
        "#   homogeneity3 = greycoprops(glcm3, 'homogeneity')[0][0]   # feature 8\n",
        "#   correlation3 = greycoprops(glcm3, 'correlation')[0][0]\n",
        "\n",
        "#   glcm4 = greycomatrix(img, distances=[1], angles=[(3*np.pi)/4], symmetric=True, normed=True)\n",
        "#   contrast4 = greycoprops(glcm4, 'contrast')[0][0]         # feature 5\n",
        "#   energy4 = greycoprops(glcm4,'energy')[0][0]              # feature 6\n",
        "#   ASM4 = greycoprops(glcm4, 'ASM')[0][0]                   # feature 7\n",
        "#   homogeneity4 = greycoprops(glcm4, 'homogeneity')[0][0]   # feature 8\n",
        "#   correlation4 = greycoprops(glcm4, 'correlation')[0][0]\n",
        "\n",
        "#   mean_contrast = (contrast1 + contrast2 + contrast3 + contrast4)/4\n",
        "#   mean_energy = (energy1+ energy2+ energy3+ energy4)/4\n",
        "#   mean_ASM = (ASM1+ ASM2+ ASM3+ ASM4)/4\n",
        "#   mean_homogeneity = (homogeneity1+ homogeneity2+ homogeneity3+ homogeneity4)/4\n",
        "#   mean_correlation = (correlation1+ correlation2+ correlation3+ correlation4)/4\n",
        "\n",
        "#   range_contrast = max(contrast1, contrast2, contrast3, contrast4) -min(contrast1, contrast2, contrast3, contrast4)\n",
        "#   range_energy = max(energy1, energy2, energy3, energy4) - min(energy1, energy2, energy3, energy4)\n",
        "#   range_ASM = max(ASM1, ASM2, ASM3, ASM4) - min(ASM1, ASM2, ASM3, ASM4)\n",
        "#   range_homogeneity = max(homogeneity1, homogeneity2, homogeneity3, homogeneity4) - min(homogeneity1, homogeneity2, homogeneity3, homogeneity4)\n",
        "#   range_correlation = max(correlation1, correlation2, correlation3, correlation4) - min(correlation1, correlation2, correlation3, correlation4)\n",
        " \n",
        "#   features = features.append({\n",
        "#       'Mean': mean,\n",
        "#       'variance':var, \n",
        "#       'skewness': skewness, \n",
        "#       'kurtosis': kurt,\n",
        "#       'Contrast': mean_contrast,\n",
        "#       'Energy': mean_energy,\n",
        "#       'ASM': mean_ASM,\n",
        "#       'Homogeneity': mean_homogeneity,\n",
        "#       'Correlation': mean_correlation,\n",
        "#       'Range_Contrast': range_contrast,\n",
        "#       'Range_Energy': range_energy,\n",
        "#       'Range_ASM': range_ASM,\n",
        "#       'Range_Homogeneity': range_homogeneity,\n",
        "#       'Range_Correlation': range_correlation}, ignore_index=True)\n",
        "#   labels.append(1)\n"
      ],
      "execution_count": 8,
      "outputs": []
    },
    {
      "cell_type": "code",
      "metadata": {
        "colab": {
          "base_uri": "https://localhost:8080/"
        },
        "id": "4ERCeJdIP_WW",
        "outputId": "1986a902-0c77-406a-e214-d490d80715c9"
      },
      "source": [
        "from sklearn.model_selection import train_test_split\n",
        "\n",
        "xtrain,xtest,ytrain,ytest = train_test_split(features, labels, random_state = 4, test_size = .2)\n",
        "\n",
        "from imblearn.over_sampling import SMOTE\n",
        "\n",
        "sm = SMOTE()\n",
        "xtrain, ytrain = sm.fit_sample(xtrain, ytrain)"
      ],
      "execution_count": 9,
      "outputs": [
        {
          "output_type": "stream",
          "text": [
            "/usr/local/lib/python3.7/dist-packages/sklearn/externals/six.py:31: FutureWarning: The module is deprecated in version 0.21 and will be removed in version 0.23 since we've dropped support for Python 2.7. Please rely on the official version of six (https://pypi.org/project/six/).\n",
            "  \"(https://pypi.org/project/six/).\", FutureWarning)\n",
            "/usr/local/lib/python3.7/dist-packages/sklearn/utils/deprecation.py:144: FutureWarning: The sklearn.neighbors.base module is  deprecated in version 0.22 and will be removed in version 0.24. The corresponding classes / functions should instead be imported from sklearn.neighbors. Anything that cannot be imported from sklearn.neighbors is now part of the private API.\n",
            "  warnings.warn(message, FutureWarning)\n",
            "/usr/local/lib/python3.7/dist-packages/sklearn/utils/deprecation.py:87: FutureWarning: Function safe_indexing is deprecated; safe_indexing is deprecated in version 0.22 and will be removed in version 0.24.\n",
            "  warnings.warn(msg, category=FutureWarning)\n"
          ],
          "name": "stderr"
        }
      ]
    },
    {
      "cell_type": "code",
      "metadata": {
        "id": "rQMS8rqkQEIQ"
      },
      "source": [
        "from sklearn.preprocessing import MinMaxScaler\n",
        "scaler = MinMaxScaler()\n",
        "scaler = scaler.fit(xtrain)\n",
        "xtrain = scaler.transform(xtrain)\n",
        "xtest = scaler.transform(xtest)"
      ],
      "execution_count": 10,
      "outputs": []
    },
    {
      "cell_type": "code",
      "metadata": {
        "colab": {
          "base_uri": "https://localhost:8080/"
        },
        "id": "WH4CoSaAQGBl",
        "outputId": "411da63c-3566-4e61-b482-5bfde00cf456"
      },
      "source": [
        "from sklearn.svm import SVC\n",
        "from sklearn.metrics import classification_report, confusion_matrix\n",
        "model1 = SVC(kernel = 'linear')\n",
        "model1.fit(xtrain, ytrain)\n",
        "print(type(model1).__name__ ,\" \\nTesting Score\", model1.score(xtest,ytest))\n",
        "y_predict = model1.predict(xtest)\n",
        "from sklearn.metrics import classification_report, confusion_matrix\n",
        "print(confusion_matrix(ytest, y_predict))"
      ],
      "execution_count": 27,
      "outputs": [
        {
          "output_type": "stream",
          "text": [
            "SVC  \n",
            "Testing Score 0.765807962529274\n",
            "[[119  13]\n",
            " [ 87 208]]\n"
          ],
          "name": "stdout"
        }
      ]
    },
    {
      "cell_type": "code",
      "metadata": {
        "colab": {
          "base_uri": "https://localhost:8080/"
        },
        "id": "U-gi3ZHxQIB8",
        "outputId": "ea97a3bb-b96e-4302-b1c8-72045cc4f530"
      },
      "source": [
        "from sklearn.svm import SVC\n",
        "\n",
        "model2 = SVC(kernel = 'rbf')\n",
        "model2.fit(xtrain, ytrain)\n",
        "print(type(model2).__name__ ,\"\\nTesting Score\", model2.score(xtest,ytest))\n",
        "y_predict = model2.predict(xtest)\n",
        "from sklearn.metrics import classification_report, confusion_matrix\n",
        "print(confusion_matrix(ytest, y_predict))"
      ],
      "execution_count": 32,
      "outputs": [
        {
          "output_type": "stream",
          "text": [
            "SVC \n",
            "Testing Score 0.7681498829039812\n",
            "[[117  15]\n",
            " [ 84 211]]\n"
          ],
          "name": "stdout"
        }
      ]
    },
    {
      "cell_type": "code",
      "metadata": {
        "colab": {
          "base_uri": "https://localhost:8080/"
        },
        "id": "8NZsSTLhQIdi",
        "outputId": "dd344b03-fb19-4f1f-eb9a-389a399ef000"
      },
      "source": [
        "from sklearn.svm import SVC\n",
        "\n",
        "model3 = SVC(kernel = 'poly')\n",
        "\n",
        "model3.fit(xtrain, ytrain)\n",
        "print(type(model3).__name__ ,\"\\nTesting Score\", model3.score(xtest,ytest))\n",
        "y_predict = model3.predict(xtest)\n",
        "from sklearn.metrics import classification_report, confusion_matrix\n",
        "print(confusion_matrix(ytest, y_predict))"
      ],
      "execution_count": 33,
      "outputs": [
        {
          "output_type": "stream",
          "text": [
            "SVC \n",
            "Testing Score 0.8032786885245902\n",
            "[[118  14]\n",
            " [ 70 225]]\n"
          ],
          "name": "stdout"
        }
      ]
    },
    {
      "cell_type": "code",
      "metadata": {
        "colab": {
          "base_uri": "https://localhost:8080/"
        },
        "id": "H2PcAmxGSRAK",
        "outputId": "5f3b92cc-8630-422d-88b6-2d0073e92a0e"
      },
      "source": [
        "from sklearn.svm import SVC\n",
        "\n",
        "model4 = SVC(kernel = 'poly', degree=2)\n",
        "\n",
        "model4.fit(xtrain, ytrain)\n",
        "print(type(model4).__name__ ,\"\\nTesting Score\", model4.score(xtest,ytest))\n",
        "y_predict = model4.predict(xtest)\n",
        "from sklearn.metrics import classification_report, confusion_matrix\n",
        "print(confusion_matrix(ytest, y_predict))"
      ],
      "execution_count": 35,
      "outputs": [
        {
          "output_type": "stream",
          "text": [
            "SVC \n",
            "Testing Score 0.7868852459016393\n",
            "[[117  15]\n",
            " [ 76 219]]\n"
          ],
          "name": "stdout"
        }
      ]
    },
    {
      "cell_type": "code",
      "metadata": {
        "colab": {
          "base_uri": "https://localhost:8080/"
        },
        "id": "rRHGHD6pQKd3",
        "outputId": "2d9d180e-dea9-43f4-e33b-d5835fd15160"
      },
      "source": [
        "from sklearn.neighbors import KNeighborsClassifier\n",
        "from sklearn.metrics import classification_report, confusion_matrix\n",
        "for k in range(1,10):\n",
        "  if k%2 != 0:\n",
        "    modelknn = KNeighborsClassifier(n_neighbors=k)\n",
        "    modelknn.fit(xtrain, ytrain)\n",
        "    print(type(model1).__name__ ,\"\\n Neighbours: \",k ,\"\\nTesting Score\", modelknn.score(xtest,ytest))\n",
        "    y_predict = model1.predict(xtest)\n",
        "    print(confusion_matrix(ytest, y_predict))"
      ],
      "execution_count": 34,
      "outputs": [
        {
          "output_type": "stream",
          "text": [
            "SVC \n",
            " Neighbours:  1 \n",
            "Testing Score 0.8407494145199064\n",
            "[[119  13]\n",
            " [ 87 208]]\n",
            "SVC \n",
            " Neighbours:  3 \n",
            "Testing Score 0.810304449648712\n",
            "[[119  13]\n",
            " [ 87 208]]\n",
            "SVC \n",
            " Neighbours:  5 \n",
            "Testing Score 0.810304449648712\n",
            "[[119  13]\n",
            " [ 87 208]]\n",
            "SVC \n",
            " Neighbours:  7 \n",
            "Testing Score 0.8032786885245902\n",
            "[[119  13]\n",
            " [ 87 208]]\n",
            "SVC \n",
            " Neighbours:  9 \n",
            "Testing Score 0.7915690866510539\n",
            "[[119  13]\n",
            " [ 87 208]]\n"
          ],
          "name": "stdout"
        }
      ]
    }
  ]
}